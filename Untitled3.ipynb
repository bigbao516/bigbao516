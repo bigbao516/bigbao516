{
 "cells": [
  {
   "cell_type": "code",
   "execution_count": null,
   "metadata": {},
   "outputs": [],
   "source": [
    "Total=0\n",
    "K = 100\n",
    "while K>=1:\n",
    "    Total+=K\n",
    "    k-=1\n",
    "Print('100+99+98+...+1=%d'%(total))"
   ]
  },
  {
   "cell_type": "code",
   "execution_count": null,
   "metadata": {},
   "outputs": [],
   "source": [
    "evenTotal=0\n",
    "k=2\n",
    "while k<=100:\n",
    "    evenTotal=evenTotal+K\n",
    "    k=k+2\n",
    "print('2+4+6...+100=',evenTotal)"
   ]
  },
  {
   "cell_type": "code",
   "execution_count": null,
   "metadata": {},
   "outputs": [],
   "source": [
    "total=0\n",
    "for i in range(1,101):\n",
    "    total+=i\n",
    "print(\"1+2+3+...+100=\",total)"
   ]
  },
  {
   "cell_type": "code",
   "execution_count": 3,
   "metadata": {},
   "outputs": [
    {
     "ename": "NameError",
     "evalue": "name 'mypath' is not defined",
     "output_type": "error",
     "traceback": [
      "\u001b[1;31m---------------------------------------------------------------------------\u001b[0m",
      "\u001b[1;31mNameError\u001b[0m                                 Traceback (most recent call last)",
      "\u001b[1;32m<ipython-input-3-5696fb993c09>\u001b[0m in \u001b[0;36m<module>\u001b[1;34m\u001b[0m\n\u001b[0;32m      2\u001b[0m \u001b[1;33m\u001b[0m\u001b[0m\n\u001b[0;32m      3\u001b[0m \u001b[0mf\u001b[0m \u001b[1;33m=\u001b[0m \u001b[1;33m[\u001b[0m\u001b[1;33m]\u001b[0m\u001b[1;33m\u001b[0m\u001b[1;33m\u001b[0m\u001b[0m\n\u001b[1;32m----> 4\u001b[1;33m \u001b[1;32mfor\u001b[0m \u001b[1;33m(\u001b[0m\u001b[0mdirpath\u001b[0m\u001b[1;33m,\u001b[0m \u001b[0mdirnames\u001b[0m\u001b[1;33m,\u001b[0m \u001b[0mfilenames\u001b[0m\u001b[1;33m)\u001b[0m \u001b[1;32min\u001b[0m \u001b[0mwalk\u001b[0m\u001b[1;33m(\u001b[0m\u001b[0mmypath\u001b[0m\u001b[1;33m)\u001b[0m\u001b[1;33m:\u001b[0m\u001b[1;33m\u001b[0m\u001b[1;33m\u001b[0m\u001b[0m\n\u001b[0m\u001b[0;32m      5\u001b[0m     \u001b[0mf\u001b[0m\u001b[1;33m.\u001b[0m\u001b[0mextend\u001b[0m\u001b[1;33m(\u001b[0m\u001b[0mfilenames\u001b[0m\u001b[1;33m)\u001b[0m\u001b[1;33m\u001b[0m\u001b[1;33m\u001b[0m\u001b[0m\n\u001b[0;32m      6\u001b[0m     \u001b[1;32mbreak\u001b[0m\u001b[1;33m\u001b[0m\u001b[1;33m\u001b[0m\u001b[0m\n",
      "\u001b[1;31mNameError\u001b[0m: name 'mypath' is not defined"
     ]
    }
   ],
   "source": [
    "from os import walk\n",
    "\n",
    "f = []\n",
    "for (dirpath, dirnames, filenames) in walk(mypath):\n",
    "    f.extend(filenames)\n",
    "    break"
   ]
  },
  {
   "cell_type": "code",
   "execution_count": 13,
   "metadata": {},
   "outputs": [
    {
     "name": "stdout",
     "output_type": "stream",
     "text": [
      "Enter from number,and end number:1,100\n",
      "Sum of even numbers from 1 to 100 is 2550\n"
     ]
    }
   ],
   "source": [
    "def sum(f,end):\n",
    "    total=0\n",
    "    for k in range(f,end+1):\n",
    "        if(k%2==0):\n",
    "            total+=k\n",
    "    return total\n",
    "def main():\n",
    "    f,end=eval(input('Enter from number,and end number:'))\n",
    "    tot=sum(f,end)\n",
    "    print('Sum of even numbers from %d to %d is %d'%(f,end,tot))\n",
    "main()"
   ]
  },
  {
   "cell_type": "code",
   "execution_count": 14,
   "metadata": {},
   "outputs": [
    {
     "name": "stdout",
     "output_type": "stream",
     "text": [
      "a= 200\n",
      "a= 100\n"
     ]
    }
   ],
   "source": [
    "a=100\n",
    "def main():\n",
    "    a=200\n",
    "    print(\"a=\",a)\n",
    "    \n",
    "main()\n",
    "print(\"a=\",a)"
   ]
  },
  {
   "cell_type": "code",
   "execution_count": 15,
   "metadata": {},
   "outputs": [
    {
     "name": "stdout",
     "output_type": "stream",
     "text": [
      "a= 200\n",
      "a= 200\n"
     ]
    }
   ],
   "source": [
    "a=100\n",
    "def main():\n",
    "    global a\n",
    "    a=200\n",
    "    print(\"a=\",a)\n",
    "    \n",
    "main()\n",
    "print(\"a=\",a)"
   ]
  },
  {
   "cell_type": "code",
   "execution_count": 17,
   "metadata": {},
   "outputs": [
    {
     "name": "stdout",
     "output_type": "stream",
     "text": [
      "please input an integer:24\n",
      "please input an integer:32\n",
      "The GCD for 24 and 32 is 8\n"
     ]
    }
   ],
   "source": [
    "def gcdFunction(n1,n2):\n",
    "    gcd=1\n",
    "    k=2\n",
    "    while k<=n1 and k<=n2:\n",
    "        if n1%k==0 and n2%k==0:\n",
    "            gcd=k\n",
    "        k+=1\n",
    "    return gcd\n",
    "def main():\n",
    "    number1=eval(input(\"please input an integer:\"))\n",
    "    number2=eval(input(\"please input an integer:\"))\n",
    "    answer=gcdFunction(number1,number2)\n",
    "    print(\"The GCD for\",number1,\"and\",number2,\"is\",answer)\n",
    "main()"
   ]
  },
  {
   "cell_type": "code",
   "execution_count": 28,
   "metadata": {},
   "outputs": [
    {
     "name": "stdout",
     "output_type": "stream",
     "text": [
      "please input an interger:17\n",
      "17 is prime number\n"
     ]
    }
   ],
   "source": [
    "def primeFunction(n):\n",
    "    divisor=2\n",
    "    flag=1\n",
    "    while divisor<=n/2:\n",
    "        if n % divisor==0:\n",
    "            flag=0\n",
    "            break\n",
    "        divisor+=1\n",
    "    return flag\n",
    "def main():\n",
    "    number=eval(input(\"please input an interger:\"))\n",
    "    result=primeFunction(number)\n",
    "    if result==0:\n",
    "        print(number,\"is not prime number\")\n",
    "    else:\n",
    "        print(number,\"is prime number\")\n",
    "main()\n",
    "        "
   ]
  },
  {
   "cell_type": "code",
   "execution_count": 2,
   "metadata": {},
   "outputs": [
    {
     "ename": "IndentationError",
     "evalue": "unexpected indent (<ipython-input-2-162625b04205>, line 3)",
     "output_type": "error",
     "traceback": [
      "\u001b[1;36m  File \u001b[1;32m\"<ipython-input-2-162625b04205>\"\u001b[1;36m, line \u001b[1;32m3\u001b[0m\n\u001b[1;33m    \"Apple\" in fruitsList\u001b[0m\n\u001b[1;37m    ^\u001b[0m\n\u001b[1;31mIndentationError\u001b[0m\u001b[1;31m:\u001b[0m unexpected indent\n"
     ]
    }
   ],
   "source": [
    "fruitsList\n",
    "[\"Apple\",\"Banana\",\"Orange\"]\n",
    "    \"Apple\" in fruitsList"
   ]
  },
  {
   "cell_type": "code",
   "execution_count": 12,
   "metadata": {},
   "outputs": [
    {
     "name": "stdout",
     "output_type": "stream",
     "text": [
      "Before call add function:\n",
      "1\n",
      "2\n",
      "3\n",
      "4\n",
      "5\n",
      "Afer call add function:\n",
      "11\n",
      "12\n",
      "13\n",
      "14\n",
      "15\n"
     ]
    }
   ],
   "source": [
    "def main():\n",
    "    numbersList10=[1,2,3,4,5]\n",
    "    print(\"Before call add function:\")\n",
    "    for x in numbersList10:\n",
    "        print(x)\n",
    "    add(numbersList10)\n",
    "    print(\"Afer call add function:\")\n",
    "    for x in numbersList10:\n",
    "        print(x)\n",
    "def add(numbersList20):\n",
    "    for i in range(len(numbersList20)):\n",
    "        numbersList20[i]+=10\n",
    "main()"
   ]
  },
  {
   "cell_type": "code",
   "execution_count": 13,
   "metadata": {},
   "outputs": [
    {
     "name": "stdout",
     "output_type": "stream",
     "text": [
      "9161545191"
     ]
    }
   ],
   "source": [
    "import random\n",
    "for i in range(1,7):\n",
    "    k=random.randint(1,49)\n",
    "    print(k,end=\"\")"
   ]
  },
  {
   "cell_type": "code",
   "execution_count": 14,
   "metadata": {},
   "outputs": [
    {
     "ename": "SyntaxError",
     "evalue": "EOL while scanning string literal (<ipython-input-14-d87c4489cdf8>, line 4)",
     "output_type": "error",
     "traceback": [
      "\u001b[1;36m  File \u001b[1;32m\"<ipython-input-14-d87c4489cdf8>\"\u001b[1;36m, line \u001b[1;32m4\u001b[0m\n\u001b[1;33m    print(\"%3d\"%(x),end=\")\u001b[0m\n\u001b[1;37m                          ^\u001b[0m\n\u001b[1;31mSyntaxError\u001b[0m\u001b[1;31m:\u001b[0m EOL while scanning string literal\n"
     ]
    }
   ],
   "source": [
    "number=[20,50,12,7,6,17]\n",
    "print(\"Original data:\")\n",
    "for x in numbers:\n",
    "    print(\"%3d\"%(x),end=\")\n",
    "for i in range(len(numbers)-1):\n",
    "    print(\"\\n\\n#%d pass:\"%(i+1),end=\")\n",
    "for j in range(len(numbers)-i-1):\n",
    "  if numbers[j]>numbers[j+1]\n",
    "     number[j+1],numbers[j]=numbers[j],numbers[j+1]\n",
    "          \n",
    "  print('\\n #%d compare:'%(j+1))\n",
    "  for x in numbers:\n",
    "       print('%3d'%(x),end=\")\n",
    "print('\\n\\nAfter sorted data:')\n",
    "for x in numbers:\n",
    "    print('%3d'%(x),end=\")\n",
    "                "
   ]
  },
  {
   "cell_type": "code",
   "execution_count": 2,
   "metadata": {},
   "outputs": [
    {
     "name": "stdout",
     "output_type": "stream",
     "text": [
      "Original data:\n"
     ]
    },
    {
     "ename": "NameError",
     "evalue": "name 'numbers' is not defined",
     "output_type": "error",
     "traceback": [
      "\u001b[1;31m---------------------------------------------------------------------------\u001b[0m",
      "\u001b[1;31mNameError\u001b[0m                                 Traceback (most recent call last)",
      "\u001b[1;32m<ipython-input-2-f9b35504234c>\u001b[0m in \u001b[0;36m<module>\u001b[1;34m\u001b[0m\n\u001b[0;32m      1\u001b[0m \u001b[0mnumber\u001b[0m\u001b[1;33m=\u001b[0m\u001b[1;33m[\u001b[0m\u001b[1;36m20\u001b[0m\u001b[1;33m,\u001b[0m\u001b[1;36m50\u001b[0m\u001b[1;33m,\u001b[0m\u001b[1;36m12\u001b[0m\u001b[1;33m,\u001b[0m\u001b[1;36m7\u001b[0m\u001b[1;33m,\u001b[0m\u001b[1;36m6\u001b[0m\u001b[1;33m,\u001b[0m\u001b[1;36m17\u001b[0m\u001b[1;33m]\u001b[0m\u001b[1;33m\u001b[0m\u001b[1;33m\u001b[0m\u001b[0m\n\u001b[0;32m      2\u001b[0m \u001b[0mprint\u001b[0m\u001b[1;33m(\u001b[0m\u001b[1;34m\"Original data:\"\u001b[0m\u001b[1;33m)\u001b[0m\u001b[1;33m\u001b[0m\u001b[1;33m\u001b[0m\u001b[0m\n\u001b[1;32m----> 3\u001b[1;33m \u001b[1;32mfor\u001b[0m \u001b[0mx\u001b[0m \u001b[1;32min\u001b[0m \u001b[0mnumbers\u001b[0m\u001b[1;33m:\u001b[0m\u001b[1;33m\u001b[0m\u001b[1;33m\u001b[0m\u001b[0m\n\u001b[0m\u001b[0;32m      4\u001b[0m     \u001b[0mprint\u001b[0m\u001b[1;33m(\u001b[0m\u001b[1;34m'%3d'\u001b[0m\u001b[1;33m%\u001b[0m\u001b[1;33m(\u001b[0m\u001b[0mx\u001b[0m\u001b[1;33m)\u001b[0m\u001b[1;33m,\u001b[0m\u001b[0mend\u001b[0m\u001b[1;33m=\u001b[0m\u001b[1;34m''\u001b[0m\u001b[1;33m)\u001b[0m\u001b[1;33m\u001b[0m\u001b[1;33m\u001b[0m\u001b[0m\n\u001b[0;32m      5\u001b[0m \u001b[1;32mfor\u001b[0m \u001b[0mi\u001b[0m \u001b[1;32min\u001b[0m \u001b[0mrange\u001b[0m\u001b[1;33m(\u001b[0m\u001b[0mlen\u001b[0m\u001b[1;33m(\u001b[0m\u001b[0mnumbers\u001b[0m\u001b[1;33m)\u001b[0m\u001b[1;33m-\u001b[0m\u001b[1;36m1\u001b[0m\u001b[1;33m)\u001b[0m\u001b[1;33m:\u001b[0m\u001b[1;33m\u001b[0m\u001b[1;33m\u001b[0m\u001b[0m\n",
      "\u001b[1;31mNameError\u001b[0m: name 'numbers' is not defined"
     ]
    }
   ],
   "source": [
    "number=[20,50,12,7,6,17]\n",
    "print(\"Original data:\")\n",
    "for x in numbers:\n",
    "    print('%3d'%(x),end='')\n",
    "for i in range(len(numbers)-1):\n",
    "    print('\\n\\n#%d pass:'%(i+1),end='')\n",
    "    flag=0\n",
    "for j in range(len(numbers)-i-1):\n",
    "    if numbers[j]>numbers[j+1]:\n",
    "        flag=1\n",
    "        number[j+1],numbers[j]=numbers[j],numbers[j+1]\n",
    "    print('\\n #%d compare:'%(j+1))\n",
    "    for x in numbers:\n",
    "        print('%3d'%(x),end='')\n",
    "    if flag==0:\n",
    "        break\n",
    "print('\\n\\nAfter sorted data:')\n",
    "for x in numbers:\n",
    "    print('%3d'%(x),end='')\n",
    "                "
   ]
  },
  {
   "cell_type": "code",
   "execution_count": 1,
   "metadata": {},
   "outputs": [
    {
     "ename": "KeyboardInterrupt",
     "evalue": "",
     "output_type": "error",
     "traceback": [
      "\u001b[1;31m---------------------------------------------------------------------------\u001b[0m",
      "\u001b[1;31mKeyboardInterrupt\u001b[0m                         Traceback (most recent call last)",
      "\u001b[1;32m<ipython-input-1-cb611fe52276>\u001b[0m in \u001b[0;36m<module>\u001b[1;34m\u001b[0m\n\u001b[0;32m      3\u001b[0m \u001b[0mlottoNumbers\u001b[0m\u001b[1;33m=\u001b[0m\u001b[1;33m[\u001b[0m\u001b[1;33m]\u001b[0m\u001b[1;33m\u001b[0m\u001b[1;33m\u001b[0m\u001b[0m\n\u001b[0;32m      4\u001b[0m \u001b[1;32mwhile\u001b[0m \u001b[0mcount\u001b[0m\u001b[1;33m<=\u001b[0m\u001b[1;36m6\u001b[0m\u001b[1;33m:\u001b[0m\u001b[1;33m\u001b[0m\u001b[1;33m\u001b[0m\u001b[0m\n\u001b[1;32m----> 5\u001b[1;33m     \u001b[0mn\u001b[0m\u001b[1;33m=\u001b[0m\u001b[0mrandom\u001b[0m\u001b[1;33m.\u001b[0m\u001b[0mrandint\u001b[0m\u001b[1;33m\u001b[0m\u001b[1;33m\u001b[0m\u001b[0m\n\u001b[0m\u001b[0;32m      6\u001b[0m     \u001b[1;32mif\u001b[0m \u001b[0mn\u001b[0m \u001b[1;32mnot\u001b[0m \u001b[1;32min\u001b[0m \u001b[0mlottoNumbers\u001b[0m\u001b[1;33m:\u001b[0m\u001b[1;33m\u001b[0m\u001b[1;33m\u001b[0m\u001b[0m\n\u001b[0;32m      7\u001b[0m         \u001b[0mlottoNumbers\u001b[0m\u001b[1;33m.\u001b[0m\u001b[0mappend\u001b[0m\u001b[1;33m(\u001b[0m\u001b[0mn\u001b[0m\u001b[1;33m)\u001b[0m\u001b[1;33m\u001b[0m\u001b[1;33m\u001b[0m\u001b[0m\n",
      "\u001b[1;31mKeyboardInterrupt\u001b[0m: "
     ]
    }
   ],
   "source": [
    "import random\n",
    "count=1\n",
    "lottoNumbers=[]\n",
    "while count<=6:\n",
    "    n=random.randint\n",
    "    if n not in lottoNumbers:\n",
    "        lottoNumbers.append(n)\n",
    "        count+=1\n",
    "print('Original data:')\n",
    "for x in lottoNumbers:\n",
    "    print(x,end='')\n",
    "for i in range (len(lottoNumbers)):\n",
    "    flag=0\n",
    "    for j in range(len(lottoNumbers)-i-1):\n",
    "        if lottoNumbers[j]>lottoNumbers[j+1]:\n",
    "            flag=1\n",
    "            lottoNumbers[j+1],lottoNumbers[j]=lottoNumbers[j],lottoNumbers[j+1]\n",
    "    if flag==0:\n",
    "        break\n",
    "    print('\\n\\nAfter sorted data:')\n",
    "    for x in lottoNumbers:\n",
    "        print(x,end='')"
   ]
  },
  {
   "cell_type": "code",
   "execution_count": 3,
   "metadata": {},
   "outputs": [
    {
     "name": "stdout",
     "output_type": "stream",
     "text": [
      "111213\n",
      "212223\n",
      "313233\n"
     ]
    }
   ],
   "source": [
    "array2=[[11,12,13],[21,22,23],[31,32,33]]\n",
    "for row in range(len(array2)):\n",
    "    for column in range(len(array2[row])):\n",
    "        print(array2[row][column],end='')\n",
    "    print()"
   ]
  },
  {
   "cell_type": "code",
   "execution_count": null,
   "metadata": {},
   "outputs": [],
   "source": []
  },
  {
   "cell_type": "code",
   "execution_count": null,
   "metadata": {},
   "outputs": [],
   "source": []
  }
 ],
 "metadata": {
  "kernelspec": {
   "display_name": "Python 3",
   "language": "python",
   "name": "python3"
  },
  "language_info": {
   "codemirror_mode": {
    "name": "ipython",
    "version": 3
   },
   "file_extension": ".py",
   "mimetype": "text/x-python",
   "name": "python",
   "nbconvert_exporter": "python",
   "pygments_lexer": "ipython3",
   "version": "3.8.5"
  }
 },
 "nbformat": 4,
 "nbformat_minor": 4
}
