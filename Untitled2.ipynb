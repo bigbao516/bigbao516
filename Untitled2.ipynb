{
 "cells": [
  {
   "cell_type": "code",
   "execution_count": 2,
   "metadata": {},
   "outputs": [
    {
     "name": "stdout",
     "output_type": "stream",
     "text": [
      "2 是質數\n",
      "3 是質數\n",
      "4 不是質數\n",
      "5 是質數\n",
      "6 不是質數\n",
      "7 是質數\n",
      "8 不是質數\n",
      "9 不是質數\n"
     ]
    }
   ],
   "source": [
    "\n",
    "for num in range(2, 10):\n",
    "    flag = 0\n",
    "    for i in range(2, num):\n",
    "        if(num%i == 0):\n",
    "            print(num, \"不是質數\")\n",
    "            flag = 1\n",
    "            break\n",
    "\n",
    "    if(flag == 0):\n",
    "        print(num, \"是質數\")"
   ]
  },
  {
   "cell_type": "code",
   "execution_count": 9,
   "metadata": {},
   "outputs": [
    {
     "name": "stdout",
     "output_type": "stream",
     "text": [
      "i: 1 j: 1 . i*j= 1\n",
      "i: 1 j: 2 . i*j= 2\n",
      "i: 1 j: 3 . i*j= 3\n",
      "i: 2 j: 1 . i*j= 2\n",
      "i: 2 j: 2 . i*j= 4\n",
      "i: 2 j: 3 . i*j= 6\n",
      "i: 3 j: 1 . i*j= 3\n",
      "i: 3 j: 2 . i*j= 6\n",
      "i: 3 j: 3 . i*j= 9\n"
     ]
    }
   ],
   "source": [
    "for i in range(1, 4):\n",
    "    for j in range(1, 4):\n",
    "        print(\"i:\", i, \"j:\", j, \". i*j=\", i*j)\n",
    "        j = j + 1\n",
    "    i = i + 1"
   ]
  },
  {
   "cell_type": "code",
   "execution_count": 7,
   "metadata": {},
   "outputs": [
    {
     "name": "stdout",
     "output_type": "stream",
     "text": [
      "1\n",
      "2\n",
      "3\n",
      "4\n",
      "5\n",
      "out 6\n"
     ]
    }
   ],
   "source": [
    "i = 1\n",
    "while i < 6:\n",
    "    print(i)\n",
    "    i = i + 1\n",
    "print(\"out\",i)"
   ]
  },
  {
   "cell_type": "code",
   "execution_count": 2,
   "metadata": {},
   "outputs": [
    {
     "ename": "NameError",
     "evalue": "name 'cale' is not defined",
     "output_type": "error",
     "traceback": [
      "\u001b[1;31m---------------------------------------------------------------------------\u001b[0m",
      "\u001b[1;31mNameError\u001b[0m                                 Traceback (most recent call last)",
      "\u001b[1;32m<ipython-input-2-833347edd48f>\u001b[0m in \u001b[0;36m<module>\u001b[1;34m\u001b[0m\n\u001b[1;32m----> 1\u001b[1;33m \u001b[0mcale\u001b[0m\u001b[1;33m(\u001b[0m\u001b[1;36m10\u001b[0m \u001b[1;33m,\u001b[0m \u001b[1;36m0\u001b[0m  \u001b[1;33m,\u001b[0m\u001b[1;36m3\u001b[0m\u001b[1;33m)\u001b[0m\u001b[1;33m\u001b[0m\u001b[1;33m\u001b[0m\u001b[0m\n\u001b[0m",
      "\u001b[1;31mNameError\u001b[0m: name 'cale' is not defined"
     ]
    }
   ],
   "source": [
    "cale(10 , 0  ,3)"
   ]
  },
  {
   "cell_type": "code",
   "execution_count": 1,
   "metadata": {},
   "outputs": [
    {
     "name": "stdout",
     "output_type": "stream",
     "text": [
      "     12345        12   1234567\n"
     ]
    }
   ],
   "source": [
    "print('%10d%10d%10d'%(12345,12,1234567))"
   ]
  },
  {
   "cell_type": "code",
   "execution_count": 10,
   "metadata": {},
   "outputs": [
    {
     "name": "stdout",
     "output_type": "stream",
     "text": [
      "123\n",
      "123,12345\n",
      "  123,  12345\n",
      "x=  123,y=  12345\n",
      "x=  123,y=  12345\n",
      "a= 123.46,y=   123.46\n",
      "kiwi     ,bananan\n",
      "     kiwi,  bananan\n",
      "  kiwi   , bananan \n"
     ]
    }
   ],
   "source": [
    "print('{0}'.format(123))\n",
    "print('{0},{1}'.format(123,12345))\n",
    "print('{0:5d},{1:7d}'.format(123,12345))\n",
    "print('x={0:5d},y={1:7d}'.format(123,12345))\n",
    "print('x={p:5d},y={q:7d}'.format(p=123,q=12345))\n",
    "print('a={0:7.2f},y={1:9.2f}'.format(123.456,123.456))\n",
    "print('{p:9s},{q:7s}'.format(p='kiwi',q='bananan'))\n",
    "print('{p:>9s},{q:>9s}'.format(p='kiwi',q='bananan'))\n",
    "print('{p:^9s},{q:^9s}'.format(p='kiwi',q='bananan'))\n"
   ]
  },
  {
   "cell_type": "code",
   "execution_count": 7,
   "metadata": {},
   "outputs": [
    {
     "name": "stdout",
     "output_type": "stream",
     "text": [
      "21.0\n"
     ]
    }
   ],
   "source": [
    "a=7+8*2-6+8/2\n",
    "print(a)"
   ]
  },
  {
   "cell_type": "code",
   "execution_count": 6,
   "metadata": {},
   "outputs": [
    {
     "name": "stdout",
     "output_type": "stream",
     "text": [
      "23.0\n"
     ]
    }
   ],
   "source": [
    "b=(7+8)*2-(6+8)/2\n",
    "print(b)"
   ]
  },
  {
   "cell_type": "code",
   "execution_count": 8,
   "metadata": {},
   "outputs": [
    {
     "name": "stdout",
     "output_type": "stream",
     "text": [
      "learning pythonis fun\n"
     ]
    }
   ],
   "source": [
    "str1=\"learning python\"+\"is fun\" \n",
    "print(str1)"
   ]
  },
  {
   "cell_type": "code",
   "execution_count": 9,
   "metadata": {},
   "outputs": [
    {
     "name": "stdout",
     "output_type": "stream",
     "text": [
      "learning pythonis fun\n"
     ]
    }
   ],
   "source": [
    "str2='learning python'+\\\n",
    "     'is fun'\n",
    "print(str2)"
   ]
  },
  {
   "cell_type": "code",
   "execution_count": 14,
   "metadata": {},
   "outputs": [
    {
     "ename": "SyntaxError",
     "evalue": "can't assign to operator (<ipython-input-14-1abfd787d375>, line 1)",
     "output_type": "error",
     "traceback": [
      "\u001b[1;36m  File \u001b[1;32m\"<ipython-input-14-1abfd787d375>\"\u001b[1;36m, line \u001b[1;32m1\u001b[0m\n\u001b[1;33m    question1='is your birthday in set1?\\n'+\\\u001b[0m\n\u001b[1;37m             ^\u001b[0m\n\u001b[1;31mSyntaxError\u001b[0m\u001b[1;31m:\u001b[0m can't assign to operator\n"
     ]
    }
   ],
   "source": [
    "question1='is your birthday in set1?\\n'+\\\n",
    "    '1 3 5 7\\n'=\\\n",
    "    '9 11 13 15\\n'+\\\n",
    "    '17 19 21 23\\n'+\\\n",
    "    '25 27 29 31\\n'+\\\n",
    "    '\\n enter 1 for yes and 0 for NO:'\n",
    "print(question1)"
   ]
  },
  {
   "cell_type": "code",
   "execution_count": 15,
   "metadata": {},
   "outputs": [
    {
     "name": "stdout",
     "output_type": "stream",
     "text": [
      "|     12345        12   1234567|\n"
     ]
    }
   ],
   "source": [
    "print('|%10d %9d %9d|'%(12345,12,1234567))"
   ]
  },
  {
   "cell_type": "code",
   "execution_count": 25,
   "metadata": {},
   "outputs": [
    {
     "name": "stdout",
     "output_type": "stream",
     "text": [
      "numerator:125\n",
      "denominator:25\n",
      "125 / 25 = 5.0\n",
      "Over\n"
     ]
    }
   ],
   "source": [
    "numerator=eval(input(\"numerator:\"))\n",
    "denominator=eval(input(\"denominator:\"))\n",
    "if denominator!=0:\n",
    "    ans=numerator/denominator\n",
    "    print(numerator,\"/\",denominator,\"=\",ans)\n",
    "print(\"Over\")    "
   ]
  },
  {
   "cell_type": "code",
   "execution_count": 33,
   "metadata": {},
   "outputs": [
    {
     "name": "stdout",
     "output_type": "stream",
     "text": [
      "please input a number:10\n",
      "10 is 5's multiple\n",
      "Over\n"
     ]
    }
   ],
   "source": [
    "number=eval(input(\"please input a number:\"))\n",
    "if number %5==0:\n",
    "    print(number,\"is 5's multiple\")\n",
    "print(\"Over\")"
   ]
  },
  {
   "cell_type": "code",
   "execution_count": null,
   "metadata": {},
   "outputs": [],
   "source": [
    "num=eval(input('please input a number:'))\n",
    "if num %2==0:\n",
    "    print(num,\"is an even number.\")\n",
    "else:\n",
    "    print(num,\"is a odd number.\")\n",
    "print(\"over\")\n",
    "    "
   ]
  },
  {
   "cell_type": "code",
   "execution_count": null,
   "metadata": {},
   "outputs": [],
   "source": [
    "number = eval(input(\"please input a number:\"))\n",
    "if number >0:\n",
    "    print(number ,\"is greater than 0\")\n",
    "else:\n",
    "    if number<0:\n",
    "        print(number,\"is less than 0\")\n",
    "    else:\n",
    "        print(number,\"is equal to 0\")\n",
    "print(\"over\")\n",
    "        "
   ]
  },
  {
   "cell_type": "code",
   "execution_count": null,
   "metadata": {},
   "outputs": [],
   "source": [
    "year=eval(input(\"please enter which year?\"))\n",
    "cond1=year%400==0\n",
    "cond2=year%4==0\n",
    "cond3=year%100!=0\n",
    "if cond1 or(cond2 and cond3):\n",
    "    print(year,\"is leap year\")\n",
    "else:\n",
    "    print(year,\"is not leap year\")"
   ]
  },
  {
   "cell_type": "code",
   "execution_count": null,
   "metadata": {},
   "outputs": [],
   "source": [
    "number=eval(input(\"please input number\"))\n",
    "if number>=0:\n",
    "    print(number)\n",
    "else:\n",
    "    print(-number)"
   ]
  },
  {
   "cell_type": "code",
   "execution_count": null,
   "metadata": {},
   "outputs": [],
   "source": [
    "eventotal=0\n",
    "k=3\n",
    "while k<=100:\n",
    "    eventotal+=K\n",
    "    K+=2\n",
    "print(\"2+4+...+100\",eventotal)"
   ]
  },
  {
   "cell_type": "code",
   "execution_count": 2,
   "metadata": {},
   "outputs": [
    {
     "name": "stdout",
     "output_type": "stream",
     "text": [
      "********************************************************************************************************************************************************************************************************************************************************************************************************************************************************************************************\n",
      "Learning python now\n",
      "*************************\n"
     ]
    }
   ],
   "source": [
    "def printStar(n):\n",
    "    for i in range(1,n+1):\n",
    "        print('*',end='')\n",
    "    print('')\n",
    "def main():\n",
    "    printStar(380)\n",
    "    print('Learning python now')\n",
    "    printStar(25)\n",
    "main()"
   ]
  },
  {
   "cell_type": "code",
   "execution_count": 1,
   "metadata": {},
   "outputs": [
    {
     "name": "stdout",
     "output_type": "stream",
     "text": [
      "$\n",
      "$$\n",
      "$$$\n",
      "$$$$\n",
      "$$$$$\n",
      "$$$$$$\n",
      "$$$$$$$\n",
      "$$$$$$$$\n",
      "$$$$$$$$$\n",
      "$$$$$$$$$$\n"
     ]
    }
   ],
   "source": [
    "def printfish(n):\n",
    "    for i in range(1,n+1):\n",
    "        print(\"$\",end=\"\")\n",
    "    print(\"\")\n",
    "def main():\n",
    "    for k in range(1,11):\n",
    "        printfish(k)\n",
    "main()\n",
    "    "
   ]
  },
  {
   "cell_type": "code",
   "execution_count": 4,
   "metadata": {},
   "outputs": [
    {
     "name": "stdout",
     "output_type": "stream",
     "text": [
      "Enter from number:1\n",
      "Enter end number:10000\n",
      "1+2+...10000=50005000\n"
     ]
    }
   ],
   "source": [
    "def sum(f,end):\n",
    "    total=0\n",
    "    for k in range(f,end+1):\n",
    "        total=total+k\n",
    "    return total\n",
    "def main():\n",
    "    f=eval(input(\"Enter from number:\"))\n",
    "    end=eval(input(\"Enter end number:\"))\n",
    "    \n",
    "    tot=sum(f,end)\n",
    "    print(\"%d+%d+...%d=%d\"%(f,f+1,end,tot))\n",
    "    \n",
    "main()"
   ]
  },
  {
   "cell_type": "code",
   "execution_count": 18,
   "metadata": {},
   "outputs": [
    {
     "name": "stdout",
     "output_type": "stream",
     "text": [
      "please input your weight(kilogram):70\n",
      "please input your height(centimeter):159\n",
      "your bmi is 27.688778\n",
      "overweight\n"
     ]
    }
   ],
   "source": [
    "def bmiFunction(w,h):\n",
    "    hlnCentimeter=(h/100)\n",
    "    bmi=w/(hlnCentimeter*hlnCentimeter)\n",
    "    print('your bmi is',format(bmi,\"2f\"))\n",
    "    if bmi<18.5:\n",
    "        print(\"Underweight\")\n",
    "    elif bmi<25:\n",
    "        print(\"Normal\")\n",
    "    elif bmi<30:\n",
    "        print(\"overweight\")\n",
    "    else:\n",
    "        print(\"Obese\")\n",
    "    \n",
    "def main():\n",
    "    weight=eval(input(\"please input your weight(kilogram):\"))\n",
    "    height=eval(input(\"please input your height(centimeter):\"))\n",
    "    bmiFunction(weight,height)\n",
    "main()"
   ]
  },
  {
   "cell_type": "code",
   "execution_count": 21,
   "metadata": {},
   "outputs": [
    {
     "name": "stdout",
     "output_type": "stream",
     "text": [
      "please input your score:60\n",
      "Grade C\n"
     ]
    }
   ],
   "source": [
    "def gpaFunction(score):\n",
    "    if score>=80:\n",
    "            print(\"Grade A\")\n",
    "    elif score>=70:\n",
    "            print(\"Grade B\")\n",
    "    elif score>=60:\n",
    "            print(\"Grade C\")\n",
    "    elif score>=50:\n",
    "            print(\"Grade D\")\n",
    "    else:\n",
    "            print(\"Grade E\")\n",
    "def main():\n",
    "    score=eval(input(\"please input your score:\"))\n",
    "    gpaFunction(score)\n",
    "main()"
   ]
  },
  {
   "cell_type": "code",
   "execution_count": 20,
   "metadata": {},
   "outputs": [
    {
     "name": "stdout",
     "output_type": "stream",
     "text": [
      "what number do you want:50\n",
      "50 is at lst[1]\n",
      "what numberdo you want:7\n",
      "7 is at lst[3]\n",
      "what numberdo you want:12\n",
      "12 is at lst[2]\n",
      "what numberdo you want:99\n",
      "99 is not found\n",
      "\n",
      "what numberdo you want:999\n",
      "finish\n"
     ]
    }
   ],
   "source": [
    "def sequentialSearch(dataList,key):\n",
    "    for i in range(len(dataList)):\n",
    "        if key ==dataList[i]:\n",
    "            return i\n",
    "    return -1\n",
    "def main():\n",
    "    lst=[20,50,12,7,30,8,11,33,56,19]\n",
    "    x=eval(input('what number do you want:'))\n",
    "    \n",
    "    while x !=999:\n",
    "        ans=sequentialSearch(lst,x)\n",
    "        if ans !=-1:\n",
    "            print('%d is at lst[%d]'%(x,ans))\n",
    "        else:\n",
    "            print('%d is not found'%(x))\n",
    "            print('')\n",
    "        x=eval(input('what numberdo you want:'))\n",
    "    print('finish')\n",
    "main()"
   ]
  }
 ],
 "metadata": {
  "kernelspec": {
   "display_name": "Python 3",
   "language": "python",
   "name": "python3"
  },
  "language_info": {
   "codemirror_mode": {
    "name": "ipython",
    "version": 3
   },
   "file_extension": ".py",
   "mimetype": "text/x-python",
   "name": "python",
   "nbconvert_exporter": "python",
   "pygments_lexer": "ipython3",
   "version": "3.7.4"
  }
 },
 "nbformat": 4,
 "nbformat_minor": 2
}
